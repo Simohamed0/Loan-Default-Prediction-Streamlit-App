{
 "cells": [
  {
   "cell_type": "code",
   "execution_count": 1,
   "metadata": {},
   "outputs": [],
   "source": [
    "import numpy\n",
    "import pandas as pd\n",
    "import matplotlib.pyplot as plt\n",
    "import seaborn as sns"
   ]
  },
  {
   "cell_type": "code",
   "execution_count": 2,
   "metadata": {},
   "outputs": [],
   "source": [
    "df = pd.read_csv(\"/home/youssef/project/archive/Loan_status_2007-2020Q3.csv\", nrows = 20000)"
   ]
  },
  {
   "cell_type": "code",
   "execution_count": 3,
   "metadata": {},
   "outputs": [
    {
     "data": {
      "text/html": [
       "<div>\n",
       "<style scoped>\n",
       "    .dataframe tbody tr th:only-of-type {\n",
       "        vertical-align: middle;\n",
       "    }\n",
       "\n",
       "    .dataframe tbody tr th {\n",
       "        vertical-align: top;\n",
       "    }\n",
       "\n",
       "    .dataframe thead th {\n",
       "        text-align: right;\n",
       "    }\n",
       "</style>\n",
       "<table border=\"1\" class=\"dataframe\">\n",
       "  <thead>\n",
       "    <tr style=\"text-align: right;\">\n",
       "      <th></th>\n",
       "      <th>Unnamed: 0</th>\n",
       "      <th>id</th>\n",
       "      <th>loan_amnt</th>\n",
       "      <th>funded_amnt</th>\n",
       "      <th>funded_amnt_inv</th>\n",
       "      <th>term</th>\n",
       "      <th>int_rate</th>\n",
       "      <th>installment</th>\n",
       "      <th>grade</th>\n",
       "      <th>sub_grade</th>\n",
       "      <th>...</th>\n",
       "      <th>hardship_start_date</th>\n",
       "      <th>hardship_end_date</th>\n",
       "      <th>payment_plan_start_date</th>\n",
       "      <th>hardship_length</th>\n",
       "      <th>hardship_dpd</th>\n",
       "      <th>hardship_loan_status</th>\n",
       "      <th>orig_projected_additional_accrued_interest</th>\n",
       "      <th>hardship_payoff_balance_amount</th>\n",
       "      <th>hardship_last_payment_amount</th>\n",
       "      <th>debt_settlement_flag</th>\n",
       "    </tr>\n",
       "  </thead>\n",
       "  <tbody>\n",
       "    <tr>\n",
       "      <th>0</th>\n",
       "      <td>0</td>\n",
       "      <td>1077501</td>\n",
       "      <td>5000</td>\n",
       "      <td>5000</td>\n",
       "      <td>4975.0</td>\n",
       "      <td>36 months</td>\n",
       "      <td>10.65%</td>\n",
       "      <td>162.87</td>\n",
       "      <td>B</td>\n",
       "      <td>B2</td>\n",
       "      <td>...</td>\n",
       "      <td>NaN</td>\n",
       "      <td>NaN</td>\n",
       "      <td>NaN</td>\n",
       "      <td>NaN</td>\n",
       "      <td>NaN</td>\n",
       "      <td>NaN</td>\n",
       "      <td>NaN</td>\n",
       "      <td>NaN</td>\n",
       "      <td>NaN</td>\n",
       "      <td>N</td>\n",
       "    </tr>\n",
       "    <tr>\n",
       "      <th>1</th>\n",
       "      <td>1</td>\n",
       "      <td>1077430</td>\n",
       "      <td>2500</td>\n",
       "      <td>2500</td>\n",
       "      <td>2500.0</td>\n",
       "      <td>60 months</td>\n",
       "      <td>15.27%</td>\n",
       "      <td>59.83</td>\n",
       "      <td>C</td>\n",
       "      <td>C4</td>\n",
       "      <td>...</td>\n",
       "      <td>NaN</td>\n",
       "      <td>NaN</td>\n",
       "      <td>NaN</td>\n",
       "      <td>NaN</td>\n",
       "      <td>NaN</td>\n",
       "      <td>NaN</td>\n",
       "      <td>NaN</td>\n",
       "      <td>NaN</td>\n",
       "      <td>NaN</td>\n",
       "      <td>N</td>\n",
       "    </tr>\n",
       "    <tr>\n",
       "      <th>2</th>\n",
       "      <td>2</td>\n",
       "      <td>1077175</td>\n",
       "      <td>2400</td>\n",
       "      <td>2400</td>\n",
       "      <td>2400.0</td>\n",
       "      <td>36 months</td>\n",
       "      <td>15.96%</td>\n",
       "      <td>84.33</td>\n",
       "      <td>C</td>\n",
       "      <td>C5</td>\n",
       "      <td>...</td>\n",
       "      <td>NaN</td>\n",
       "      <td>NaN</td>\n",
       "      <td>NaN</td>\n",
       "      <td>NaN</td>\n",
       "      <td>NaN</td>\n",
       "      <td>NaN</td>\n",
       "      <td>NaN</td>\n",
       "      <td>NaN</td>\n",
       "      <td>NaN</td>\n",
       "      <td>N</td>\n",
       "    </tr>\n",
       "    <tr>\n",
       "      <th>3</th>\n",
       "      <td>3</td>\n",
       "      <td>1076863</td>\n",
       "      <td>10000</td>\n",
       "      <td>10000</td>\n",
       "      <td>10000.0</td>\n",
       "      <td>36 months</td>\n",
       "      <td>13.49%</td>\n",
       "      <td>339.31</td>\n",
       "      <td>C</td>\n",
       "      <td>C1</td>\n",
       "      <td>...</td>\n",
       "      <td>NaN</td>\n",
       "      <td>NaN</td>\n",
       "      <td>NaN</td>\n",
       "      <td>NaN</td>\n",
       "      <td>NaN</td>\n",
       "      <td>NaN</td>\n",
       "      <td>NaN</td>\n",
       "      <td>NaN</td>\n",
       "      <td>NaN</td>\n",
       "      <td>N</td>\n",
       "    </tr>\n",
       "    <tr>\n",
       "      <th>4</th>\n",
       "      <td>4</td>\n",
       "      <td>1075358</td>\n",
       "      <td>3000</td>\n",
       "      <td>3000</td>\n",
       "      <td>3000.0</td>\n",
       "      <td>60 months</td>\n",
       "      <td>12.69%</td>\n",
       "      <td>67.79</td>\n",
       "      <td>B</td>\n",
       "      <td>B5</td>\n",
       "      <td>...</td>\n",
       "      <td>NaN</td>\n",
       "      <td>NaN</td>\n",
       "      <td>NaN</td>\n",
       "      <td>NaN</td>\n",
       "      <td>NaN</td>\n",
       "      <td>NaN</td>\n",
       "      <td>NaN</td>\n",
       "      <td>NaN</td>\n",
       "      <td>NaN</td>\n",
       "      <td>N</td>\n",
       "    </tr>\n",
       "  </tbody>\n",
       "</table>\n",
       "<p>5 rows × 142 columns</p>\n",
       "</div>"
      ],
      "text/plain": [
       "   Unnamed: 0       id  loan_amnt  funded_amnt  funded_amnt_inv        term  \\\n",
       "0           0  1077501       5000         5000           4975.0   36 months   \n",
       "1           1  1077430       2500         2500           2500.0   60 months   \n",
       "2           2  1077175       2400         2400           2400.0   36 months   \n",
       "3           3  1076863      10000        10000          10000.0   36 months   \n",
       "4           4  1075358       3000         3000           3000.0   60 months   \n",
       "\n",
       "  int_rate  installment grade sub_grade  ... hardship_start_date  \\\n",
       "0   10.65%       162.87     B        B2  ...                 NaN   \n",
       "1   15.27%        59.83     C        C4  ...                 NaN   \n",
       "2   15.96%        84.33     C        C5  ...                 NaN   \n",
       "3   13.49%       339.31     C        C1  ...                 NaN   \n",
       "4   12.69%        67.79     B        B5  ...                 NaN   \n",
       "\n",
       "  hardship_end_date payment_plan_start_date  hardship_length hardship_dpd  \\\n",
       "0               NaN                     NaN              NaN          NaN   \n",
       "1               NaN                     NaN              NaN          NaN   \n",
       "2               NaN                     NaN              NaN          NaN   \n",
       "3               NaN                     NaN              NaN          NaN   \n",
       "4               NaN                     NaN              NaN          NaN   \n",
       "\n",
       "  hardship_loan_status orig_projected_additional_accrued_interest  \\\n",
       "0                  NaN                                        NaN   \n",
       "1                  NaN                                        NaN   \n",
       "2                  NaN                                        NaN   \n",
       "3                  NaN                                        NaN   \n",
       "4                  NaN                                        NaN   \n",
       "\n",
       "  hardship_payoff_balance_amount hardship_last_payment_amount  \\\n",
       "0                            NaN                          NaN   \n",
       "1                            NaN                          NaN   \n",
       "2                            NaN                          NaN   \n",
       "3                            NaN                          NaN   \n",
       "4                            NaN                          NaN   \n",
       "\n",
       "  debt_settlement_flag  \n",
       "0                    N  \n",
       "1                    N  \n",
       "2                    N  \n",
       "3                    N  \n",
       "4                    N  \n",
       "\n",
       "[5 rows x 142 columns]"
      ]
     },
     "execution_count": 3,
     "metadata": {},
     "output_type": "execute_result"
    }
   ],
   "source": [
    "# Display the first few rows of the dataset\n",
    "df.head()"
   ]
  },
  {
   "cell_type": "code",
   "execution_count": 4,
   "metadata": {},
   "outputs": [
    {
     "data": {
      "text/plain": [
       "Index(['Unnamed: 0', 'id', 'loan_amnt', 'funded_amnt', 'funded_amnt_inv',\n",
       "       'term', 'int_rate', 'installment', 'grade', 'sub_grade',\n",
       "       ...\n",
       "       'hardship_start_date', 'hardship_end_date', 'payment_plan_start_date',\n",
       "       'hardship_length', 'hardship_dpd', 'hardship_loan_status',\n",
       "       'orig_projected_additional_accrued_interest',\n",
       "       'hardship_payoff_balance_amount', 'hardship_last_payment_amount',\n",
       "       'debt_settlement_flag'],\n",
       "      dtype='object', length=142)"
      ]
     },
     "execution_count": 4,
     "metadata": {},
     "output_type": "execute_result"
    }
   ],
   "source": [
    "# Display the column names\n",
    "df.columns"
   ]
  },
  {
   "cell_type": "code",
   "execution_count": 5,
   "metadata": {},
   "outputs": [
    {
     "data": {
      "text/plain": [
       "Index(['loan_amnt', 'term', 'emp_title', 'emp_length', 'home_ownership',\n",
       "       'annual_inc', 'verification_status', 'issue_d', 'loan_status',\n",
       "       'pymnt_plan',\n",
       "       ...\n",
       "       'sec_app_open_act_il', 'sec_app_num_rev_accts',\n",
       "       'sec_app_chargeoff_within_12_mths',\n",
       "       'sec_app_collections_12_mths_ex_med', 'hardship_flag', 'hardship_type',\n",
       "       'hardship_reason', 'hardship_status', 'deferral_term',\n",
       "       'hardship_amount'],\n",
       "      dtype='object', length=121)"
      ]
     },
     "execution_count": 5,
     "metadata": {},
     "output_type": "execute_result"
    }
   ],
   "source": [
    "# Columns to drop\n",
    "columns_to_drop = [\n",
    "    'Unnamed: 0',  # Index or row number\n",
    "    'id',          # Unique identifier\n",
    "    'grade',       # Risk category\n",
    "    'sub_grade',   # Sub-category of risk\n",
    "    'int_rate',    # Interest rate\n",
    "    'installment', # Monthly payment amount\n",
    "    'funded_amnt', 'funded_amnt_inv',  # Funding amounts\n",
    "    'total_pymnt', 'total_rec_prncp', 'total_rec_int',  # Total payments\n",
    "    'hardship_start_date', 'hardship_end_date', 'payment_plan_start_date',  # Hardship and payment dates\n",
    "    'hardship_length', 'hardship_dpd', 'hardship_loan_status',  # Hardship details\n",
    "    'orig_projected_additional_accrued_interest', 'hardship_payoff_balance_amount', 'hardship_last_payment_amount', # Hardship amounts\n",
    "    'debt_settlement_flag' # Debt settlement indicator\n",
    "]\n",
    "\n",
    "# Drop the columns\n",
    "df_cleaned = df.drop(columns=columns_to_drop)\n",
    "\n",
    "# Filter the DataFrame\n",
    "df_cleaned = df_cleaned[df_cleaned['loan_status'].isin(['Fully Paid', 'Charged Off'])]\n",
    "\n",
    "# Verify the remaining columns\n",
    "df_cleaned.columns"
   ]
  },
  {
   "cell_type": "code",
   "execution_count": 6,
   "metadata": {},
   "outputs": [
    {
     "name": "stdout",
     "output_type": "stream",
     "text": [
      "['loan_amnt', 'term', 'emp_title', 'emp_length', 'home_ownership', 'annual_inc', 'verification_status', 'issue_d', 'loan_status', 'pymnt_plan', 'url', 'purpose', 'title', 'zip_code', 'addr_state', 'dti', 'delinq_2yrs', 'earliest_cr_line', 'fico_range_low', 'fico_range_high', 'inq_last_6mths', 'mths_since_last_delinq', 'mths_since_last_record', 'open_acc', 'pub_rec', 'revol_bal', 'revol_util', 'total_acc', 'initial_list_status', 'out_prncp', 'out_prncp_inv', 'total_pymnt_inv', 'total_rec_late_fee', 'recoveries', 'collection_recovery_fee', 'last_pymnt_d', 'last_pymnt_amnt', 'next_pymnt_d', 'last_credit_pull_d', 'last_fico_range_high', 'last_fico_range_low', 'collections_12_mths_ex_med', 'mths_since_last_major_derog', 'policy_code', 'application_type', 'annual_inc_joint', 'dti_joint', 'verification_status_joint', 'acc_now_delinq', 'tot_coll_amt', 'tot_cur_bal', 'open_acc_6m', 'open_act_il', 'open_il_12m', 'open_il_24m', 'mths_since_rcnt_il', 'total_bal_il', 'il_util', 'open_rv_12m', 'open_rv_24m', 'max_bal_bc', 'all_util', 'total_rev_hi_lim', 'inq_fi', 'total_cu_tl', 'inq_last_12m', 'acc_open_past_24mths', 'avg_cur_bal', 'bc_open_to_buy', 'bc_util', 'chargeoff_within_12_mths', 'delinq_amnt', 'mo_sin_old_il_acct', 'mo_sin_old_rev_tl_op', 'mo_sin_rcnt_rev_tl_op', 'mo_sin_rcnt_tl', 'mort_acc', 'mths_since_recent_bc', 'mths_since_recent_bc_dlq', 'mths_since_recent_inq', 'mths_since_recent_revol_delinq', 'num_accts_ever_120_pd', 'num_actv_bc_tl', 'num_actv_rev_tl', 'num_bc_sats', 'num_bc_tl', 'num_il_tl', 'num_op_rev_tl', 'num_rev_accts', 'num_rev_tl_bal_gt_0', 'num_sats', 'num_tl_120dpd_2m', 'num_tl_30dpd', 'num_tl_90g_dpd_24m', 'num_tl_op_past_12m', 'pct_tl_nvr_dlq', 'percent_bc_gt_75', 'pub_rec_bankruptcies', 'tax_liens', 'tot_hi_cred_lim', 'total_bal_ex_mort', 'total_bc_limit', 'total_il_high_credit_limit', 'revol_bal_joint', 'sec_app_fico_range_low', 'sec_app_fico_range_high', 'sec_app_earliest_cr_line', 'sec_app_inq_last_6mths', 'sec_app_mort_acc', 'sec_app_open_acc', 'sec_app_revol_util', 'sec_app_open_act_il', 'sec_app_num_rev_accts', 'sec_app_chargeoff_within_12_mths', 'sec_app_collections_12_mths_ex_med', 'hardship_flag', 'hardship_type', 'hardship_reason', 'hardship_status', 'deferral_term', 'hardship_amount']\n"
     ]
    }
   ],
   "source": [
    "# Print all column names\n",
    "print(df_cleaned.columns.tolist())"
   ]
  },
  {
   "cell_type": "code",
   "execution_count": 7,
   "metadata": {},
   "outputs": [],
   "source": [
    "# Additional columns to drop\n",
    "additional_columns_to_drop = [\n",
    "    'url', 'issue_d', 'last_pymnt_d', 'next_pymnt_d', 'last_credit_pull_d',\n",
    "    'out_prncp', 'out_prncp_inv', 'total_pymnt_inv', 'total_rec_late_fee',\n",
    "    'recoveries', 'collection_recovery_fee',\n",
    "    'annual_inc_joint', 'dti_joint', 'verification_status_joint', 'revol_bal_joint',\n",
    "    'sec_app_fico_range_low', 'sec_app_fico_range_high', 'sec_app_earliest_cr_line',\n",
    "    'total_rev_hi_lim', 'tot_hi_cred_lim', 'total_bal_ex_mort', 'total_bc_limit',\n",
    "    'total_il_high_credit_limit',\n",
    "    'num_rev_accts', 'num_op_rev_tl', 'num_actv_rev_tl', 'num_bc_tl', 'num_il_tl',\n",
    "    'num_bc_sats', 'num_sats', 'num_tl_120dpd_2m', 'num_tl_30dpd', 'num_tl_90g_dpd_24m',\n",
    "    'num_tl_op_past_12m',\n",
    "    'hardship_flag', 'hardship_type', 'hardship_reason', 'hardship_status',\n",
    "    'deferral_term', 'hardship_amount',\n",
    "    'policy_code' # contains only 1 and nan\n",
    "]\n",
    "\n",
    "# Drop the columns\n",
    "df_cleaned = df_cleaned.drop(columns=additional_columns_to_drop)"
   ]
  },
  {
   "cell_type": "code",
   "execution_count": 8,
   "metadata": {},
   "outputs": [
    {
     "data": {
      "text/html": [
       "<div>\n",
       "<style scoped>\n",
       "    .dataframe tbody tr th:only-of-type {\n",
       "        vertical-align: middle;\n",
       "    }\n",
       "\n",
       "    .dataframe tbody tr th {\n",
       "        vertical-align: top;\n",
       "    }\n",
       "\n",
       "    .dataframe thead th {\n",
       "        text-align: right;\n",
       "    }\n",
       "</style>\n",
       "<table border=\"1\" class=\"dataframe\">\n",
       "  <thead>\n",
       "    <tr style=\"text-align: right;\">\n",
       "      <th></th>\n",
       "      <th>loan_amnt</th>\n",
       "      <th>annual_inc</th>\n",
       "      <th>dti</th>\n",
       "      <th>delinq_2yrs</th>\n",
       "      <th>fico_range_low</th>\n",
       "      <th>fico_range_high</th>\n",
       "      <th>inq_last_6mths</th>\n",
       "      <th>mths_since_last_delinq</th>\n",
       "      <th>mths_since_last_record</th>\n",
       "      <th>open_acc</th>\n",
       "      <th>...</th>\n",
       "      <th>pub_rec_bankruptcies</th>\n",
       "      <th>tax_liens</th>\n",
       "      <th>sec_app_inq_last_6mths</th>\n",
       "      <th>sec_app_mort_acc</th>\n",
       "      <th>sec_app_open_acc</th>\n",
       "      <th>sec_app_revol_util</th>\n",
       "      <th>sec_app_open_act_il</th>\n",
       "      <th>sec_app_num_rev_accts</th>\n",
       "      <th>sec_app_chargeoff_within_12_mths</th>\n",
       "      <th>sec_app_collections_12_mths_ex_med</th>\n",
       "    </tr>\n",
       "  </thead>\n",
       "  <tbody>\n",
       "    <tr>\n",
       "      <th>count</th>\n",
       "      <td>20000.000000</td>\n",
       "      <td>2.000000e+04</td>\n",
       "      <td>20000.000000</td>\n",
       "      <td>20000.000000</td>\n",
       "      <td>20000.00000</td>\n",
       "      <td>20000.00000</td>\n",
       "      <td>20000.000000</td>\n",
       "      <td>6750.000000</td>\n",
       "      <td>1045.000000</td>\n",
       "      <td>20000.000000</td>\n",
       "      <td>...</td>\n",
       "      <td>20000.000000</td>\n",
       "      <td>20000.0</td>\n",
       "      <td>0.0</td>\n",
       "      <td>0.0</td>\n",
       "      <td>0.0</td>\n",
       "      <td>0.0</td>\n",
       "      <td>0.0</td>\n",
       "      <td>0.0</td>\n",
       "      <td>0.0</td>\n",
       "      <td>0.0</td>\n",
       "    </tr>\n",
       "    <tr>\n",
       "      <th>mean</th>\n",
       "      <td>12142.397500</td>\n",
       "      <td>6.946990e+04</td>\n",
       "      <td>13.873362</td>\n",
       "      <td>0.149700</td>\n",
       "      <td>714.89000</td>\n",
       "      <td>718.89000</td>\n",
       "      <td>0.818250</td>\n",
       "      <td>36.957630</td>\n",
       "      <td>94.866986</td>\n",
       "      <td>9.397550</td>\n",
       "      <td>...</td>\n",
       "      <td>0.044650</td>\n",
       "      <td>0.0</td>\n",
       "      <td>NaN</td>\n",
       "      <td>NaN</td>\n",
       "      <td>NaN</td>\n",
       "      <td>NaN</td>\n",
       "      <td>NaN</td>\n",
       "      <td>NaN</td>\n",
       "      <td>NaN</td>\n",
       "      <td>NaN</td>\n",
       "    </tr>\n",
       "    <tr>\n",
       "      <th>std</th>\n",
       "      <td>8297.889277</td>\n",
       "      <td>4.671540e+04</td>\n",
       "      <td>6.715703</td>\n",
       "      <td>0.514007</td>\n",
       "      <td>35.49628</td>\n",
       "      <td>35.49628</td>\n",
       "      <td>1.025802</td>\n",
       "      <td>21.541835</td>\n",
       "      <td>19.977011</td>\n",
       "      <td>4.365118</td>\n",
       "      <td>...</td>\n",
       "      <td>0.207505</td>\n",
       "      <td>0.0</td>\n",
       "      <td>NaN</td>\n",
       "      <td>NaN</td>\n",
       "      <td>NaN</td>\n",
       "      <td>NaN</td>\n",
       "      <td>NaN</td>\n",
       "      <td>NaN</td>\n",
       "      <td>NaN</td>\n",
       "      <td>NaN</td>\n",
       "    </tr>\n",
       "    <tr>\n",
       "      <th>min</th>\n",
       "      <td>1000.000000</td>\n",
       "      <td>6.000000e+03</td>\n",
       "      <td>0.000000</td>\n",
       "      <td>0.000000</td>\n",
       "      <td>660.00000</td>\n",
       "      <td>664.00000</td>\n",
       "      <td>0.000000</td>\n",
       "      <td>1.000000</td>\n",
       "      <td>11.000000</td>\n",
       "      <td>2.000000</td>\n",
       "      <td>...</td>\n",
       "      <td>0.000000</td>\n",
       "      <td>0.0</td>\n",
       "      <td>NaN</td>\n",
       "      <td>NaN</td>\n",
       "      <td>NaN</td>\n",
       "      <td>NaN</td>\n",
       "      <td>NaN</td>\n",
       "      <td>NaN</td>\n",
       "      <td>NaN</td>\n",
       "      <td>NaN</td>\n",
       "    </tr>\n",
       "    <tr>\n",
       "      <th>25%</th>\n",
       "      <td>6000.000000</td>\n",
       "      <td>4.200000e+04</td>\n",
       "      <td>8.730000</td>\n",
       "      <td>0.000000</td>\n",
       "      <td>685.00000</td>\n",
       "      <td>689.00000</td>\n",
       "      <td>0.000000</td>\n",
       "      <td>19.000000</td>\n",
       "      <td>89.000000</td>\n",
       "      <td>6.000000</td>\n",
       "      <td>...</td>\n",
       "      <td>0.000000</td>\n",
       "      <td>0.0</td>\n",
       "      <td>NaN</td>\n",
       "      <td>NaN</td>\n",
       "      <td>NaN</td>\n",
       "      <td>NaN</td>\n",
       "      <td>NaN</td>\n",
       "      <td>NaN</td>\n",
       "      <td>NaN</td>\n",
       "      <td>NaN</td>\n",
       "    </tr>\n",
       "    <tr>\n",
       "      <th>50%</th>\n",
       "      <td>10000.000000</td>\n",
       "      <td>6.000000e+04</td>\n",
       "      <td>13.930000</td>\n",
       "      <td>0.000000</td>\n",
       "      <td>710.00000</td>\n",
       "      <td>714.00000</td>\n",
       "      <td>0.000000</td>\n",
       "      <td>35.000000</td>\n",
       "      <td>99.000000</td>\n",
       "      <td>9.000000</td>\n",
       "      <td>...</td>\n",
       "      <td>0.000000</td>\n",
       "      <td>0.0</td>\n",
       "      <td>NaN</td>\n",
       "      <td>NaN</td>\n",
       "      <td>NaN</td>\n",
       "      <td>NaN</td>\n",
       "      <td>NaN</td>\n",
       "      <td>NaN</td>\n",
       "      <td>NaN</td>\n",
       "      <td>NaN</td>\n",
       "    </tr>\n",
       "    <tr>\n",
       "      <th>75%</th>\n",
       "      <td>16000.000000</td>\n",
       "      <td>8.400000e+04</td>\n",
       "      <td>19.130000</td>\n",
       "      <td>0.000000</td>\n",
       "      <td>740.00000</td>\n",
       "      <td>744.00000</td>\n",
       "      <td>1.000000</td>\n",
       "      <td>53.000000</td>\n",
       "      <td>109.000000</td>\n",
       "      <td>12.000000</td>\n",
       "      <td>...</td>\n",
       "      <td>0.000000</td>\n",
       "      <td>0.0</td>\n",
       "      <td>NaN</td>\n",
       "      <td>NaN</td>\n",
       "      <td>NaN</td>\n",
       "      <td>NaN</td>\n",
       "      <td>NaN</td>\n",
       "      <td>NaN</td>\n",
       "      <td>NaN</td>\n",
       "      <td>NaN</td>\n",
       "    </tr>\n",
       "    <tr>\n",
       "      <th>max</th>\n",
       "      <td>35000.000000</td>\n",
       "      <td>1.782000e+06</td>\n",
       "      <td>29.990000</td>\n",
       "      <td>11.000000</td>\n",
       "      <td>825.00000</td>\n",
       "      <td>829.00000</td>\n",
       "      <td>8.000000</td>\n",
       "      <td>120.000000</td>\n",
       "      <td>119.000000</td>\n",
       "      <td>39.000000</td>\n",
       "      <td>...</td>\n",
       "      <td>2.000000</td>\n",
       "      <td>0.0</td>\n",
       "      <td>NaN</td>\n",
       "      <td>NaN</td>\n",
       "      <td>NaN</td>\n",
       "      <td>NaN</td>\n",
       "      <td>NaN</td>\n",
       "      <td>NaN</td>\n",
       "      <td>NaN</td>\n",
       "      <td>NaN</td>\n",
       "    </tr>\n",
       "  </tbody>\n",
       "</table>\n",
       "<p>8 rows × 65 columns</p>\n",
       "</div>"
      ],
      "text/plain": [
       "          loan_amnt    annual_inc           dti   delinq_2yrs  fico_range_low  \\\n",
       "count  20000.000000  2.000000e+04  20000.000000  20000.000000     20000.00000   \n",
       "mean   12142.397500  6.946990e+04     13.873362      0.149700       714.89000   \n",
       "std     8297.889277  4.671540e+04      6.715703      0.514007        35.49628   \n",
       "min     1000.000000  6.000000e+03      0.000000      0.000000       660.00000   \n",
       "25%     6000.000000  4.200000e+04      8.730000      0.000000       685.00000   \n",
       "50%    10000.000000  6.000000e+04     13.930000      0.000000       710.00000   \n",
       "75%    16000.000000  8.400000e+04     19.130000      0.000000       740.00000   \n",
       "max    35000.000000  1.782000e+06     29.990000     11.000000       825.00000   \n",
       "\n",
       "       fico_range_high  inq_last_6mths  mths_since_last_delinq  \\\n",
       "count      20000.00000    20000.000000             6750.000000   \n",
       "mean         718.89000        0.818250               36.957630   \n",
       "std           35.49628        1.025802               21.541835   \n",
       "min          664.00000        0.000000                1.000000   \n",
       "25%          689.00000        0.000000               19.000000   \n",
       "50%          714.00000        0.000000               35.000000   \n",
       "75%          744.00000        1.000000               53.000000   \n",
       "max          829.00000        8.000000              120.000000   \n",
       "\n",
       "       mths_since_last_record      open_acc  ...  pub_rec_bankruptcies  \\\n",
       "count             1045.000000  20000.000000  ...          20000.000000   \n",
       "mean                94.866986      9.397550  ...              0.044650   \n",
       "std                 19.977011      4.365118  ...              0.207505   \n",
       "min                 11.000000      2.000000  ...              0.000000   \n",
       "25%                 89.000000      6.000000  ...              0.000000   \n",
       "50%                 99.000000      9.000000  ...              0.000000   \n",
       "75%                109.000000     12.000000  ...              0.000000   \n",
       "max                119.000000     39.000000  ...              2.000000   \n",
       "\n",
       "       tax_liens  sec_app_inq_last_6mths  sec_app_mort_acc  sec_app_open_acc  \\\n",
       "count    20000.0                     0.0               0.0               0.0   \n",
       "mean         0.0                     NaN               NaN               NaN   \n",
       "std          0.0                     NaN               NaN               NaN   \n",
       "min          0.0                     NaN               NaN               NaN   \n",
       "25%          0.0                     NaN               NaN               NaN   \n",
       "50%          0.0                     NaN               NaN               NaN   \n",
       "75%          0.0                     NaN               NaN               NaN   \n",
       "max          0.0                     NaN               NaN               NaN   \n",
       "\n",
       "       sec_app_revol_util  sec_app_open_act_il  sec_app_num_rev_accts  \\\n",
       "count                 0.0                  0.0                    0.0   \n",
       "mean                  NaN                  NaN                    NaN   \n",
       "std                   NaN                  NaN                    NaN   \n",
       "min                   NaN                  NaN                    NaN   \n",
       "25%                   NaN                  NaN                    NaN   \n",
       "50%                   NaN                  NaN                    NaN   \n",
       "75%                   NaN                  NaN                    NaN   \n",
       "max                   NaN                  NaN                    NaN   \n",
       "\n",
       "       sec_app_chargeoff_within_12_mths  sec_app_collections_12_mths_ex_med  \n",
       "count                               0.0                                 0.0  \n",
       "mean                                NaN                                 NaN  \n",
       "std                                 NaN                                 NaN  \n",
       "min                                 NaN                                 NaN  \n",
       "25%                                 NaN                                 NaN  \n",
       "50%                                 NaN                                 NaN  \n",
       "75%                                 NaN                                 NaN  \n",
       "max                                 NaN                                 NaN  \n",
       "\n",
       "[8 rows x 65 columns]"
      ]
     },
     "execution_count": 8,
     "metadata": {},
     "output_type": "execute_result"
    }
   ],
   "source": [
    "df_cleaned.describe()"
   ]
  },
  {
   "cell_type": "code",
   "execution_count": 9,
   "metadata": {},
   "outputs": [
    {
     "name": "stdout",
     "output_type": "stream",
     "text": [
      "<class 'pandas.core.frame.DataFrame'>\n",
      "RangeIndex: 20000 entries, 0 to 19999\n",
      "Data columns (total 80 columns):\n",
      " #   Column                              Non-Null Count  Dtype  \n",
      "---  ------                              --------------  -----  \n",
      " 0   loan_amnt                           20000 non-null  int64  \n",
      " 1   term                                20000 non-null  object \n",
      " 2   emp_title                           18678 non-null  object \n",
      " 3   emp_length                          19301 non-null  object \n",
      " 4   home_ownership                      20000 non-null  object \n",
      " 5   annual_inc                          20000 non-null  float64\n",
      " 6   verification_status                 20000 non-null  object \n",
      " 7   loan_status                         20000 non-null  object \n",
      " 8   pymnt_plan                          20000 non-null  object \n",
      " 9   purpose                             20000 non-null  object \n",
      " 10  title                               20000 non-null  object \n",
      " 11  zip_code                            20000 non-null  object \n",
      " 12  addr_state                          20000 non-null  object \n",
      " 13  dti                                 20000 non-null  float64\n",
      " 14  delinq_2yrs                         20000 non-null  int64  \n",
      " 15  earliest_cr_line                    20000 non-null  object \n",
      " 16  fico_range_low                      20000 non-null  int64  \n",
      " 17  fico_range_high                     20000 non-null  int64  \n",
      " 18  inq_last_6mths                      20000 non-null  int64  \n",
      " 19  mths_since_last_delinq              6750 non-null   float64\n",
      " 20  mths_since_last_record              1045 non-null   float64\n",
      " 21  open_acc                            20000 non-null  int64  \n",
      " 22  pub_rec                             20000 non-null  int64  \n",
      " 23  revol_bal                           20000 non-null  int64  \n",
      " 24  revol_util                          19991 non-null  object \n",
      " 25  total_acc                           20000 non-null  int64  \n",
      " 26  initial_list_status                 20000 non-null  object \n",
      " 27  last_pymnt_amnt                     20000 non-null  float64\n",
      " 28  last_fico_range_high                20000 non-null  int64  \n",
      " 29  last_fico_range_low                 20000 non-null  int64  \n",
      " 30  collections_12_mths_ex_med          20000 non-null  int64  \n",
      " 31  mths_since_last_major_derog         0 non-null      float64\n",
      " 32  application_type                    20000 non-null  object \n",
      " 33  acc_now_delinq                      20000 non-null  int64  \n",
      " 34  tot_coll_amt                        0 non-null      float64\n",
      " 35  tot_cur_bal                         0 non-null      float64\n",
      " 36  open_acc_6m                         0 non-null      float64\n",
      " 37  open_act_il                         0 non-null      float64\n",
      " 38  open_il_12m                         0 non-null      float64\n",
      " 39  open_il_24m                         0 non-null      float64\n",
      " 40  mths_since_rcnt_il                  0 non-null      float64\n",
      " 41  total_bal_il                        0 non-null      float64\n",
      " 42  il_util                             0 non-null      float64\n",
      " 43  open_rv_12m                         0 non-null      float64\n",
      " 44  open_rv_24m                         0 non-null      float64\n",
      " 45  max_bal_bc                          0 non-null      float64\n",
      " 46  all_util                            0 non-null      float64\n",
      " 47  inq_fi                              0 non-null      float64\n",
      " 48  total_cu_tl                         0 non-null      float64\n",
      " 49  inq_last_12m                        0 non-null      float64\n",
      " 50  acc_open_past_24mths                0 non-null      float64\n",
      " 51  avg_cur_bal                         0 non-null      float64\n",
      " 52  bc_open_to_buy                      0 non-null      float64\n",
      " 53  bc_util                             0 non-null      float64\n",
      " 54  chargeoff_within_12_mths            20000 non-null  int64  \n",
      " 55  delinq_amnt                         20000 non-null  int64  \n",
      " 56  mo_sin_old_il_acct                  0 non-null      float64\n",
      " 57  mo_sin_old_rev_tl_op                0 non-null      float64\n",
      " 58  mo_sin_rcnt_rev_tl_op               0 non-null      float64\n",
      " 59  mo_sin_rcnt_tl                      0 non-null      float64\n",
      " 60  mort_acc                            0 non-null      float64\n",
      " 61  mths_since_recent_bc                0 non-null      float64\n",
      " 62  mths_since_recent_bc_dlq            0 non-null      float64\n",
      " 63  mths_since_recent_inq               0 non-null      float64\n",
      " 64  mths_since_recent_revol_delinq      0 non-null      float64\n",
      " 65  num_accts_ever_120_pd               0 non-null      float64\n",
      " 66  num_actv_bc_tl                      0 non-null      float64\n",
      " 67  num_rev_tl_bal_gt_0                 0 non-null      float64\n",
      " 68  pct_tl_nvr_dlq                      0 non-null      float64\n",
      " 69  percent_bc_gt_75                    0 non-null      float64\n",
      " 70  pub_rec_bankruptcies                20000 non-null  int64  \n",
      " 71  tax_liens                           20000 non-null  int64  \n",
      " 72  sec_app_inq_last_6mths              0 non-null      float64\n",
      " 73  sec_app_mort_acc                    0 non-null      float64\n",
      " 74  sec_app_open_acc                    0 non-null      float64\n",
      " 75  sec_app_revol_util                  0 non-null      float64\n",
      " 76  sec_app_open_act_il                 0 non-null      float64\n",
      " 77  sec_app_num_rev_accts               0 non-null      float64\n",
      " 78  sec_app_chargeoff_within_12_mths    0 non-null      float64\n",
      " 79  sec_app_collections_12_mths_ex_med  0 non-null      float64\n",
      "dtypes: float64(48), int64(17), object(15)\n",
      "memory usage: 12.2+ MB\n"
     ]
    }
   ],
   "source": [
    "df_cleaned.info()"
   ]
  },
  {
   "cell_type": "code",
   "execution_count": 10,
   "metadata": {},
   "outputs": [
    {
     "name": "stdout",
     "output_type": "stream",
     "text": [
      "Empty columns: ['mths_since_last_major_derog', 'tot_coll_amt', 'tot_cur_bal', 'open_acc_6m', 'open_act_il', 'open_il_12m', 'open_il_24m', 'mths_since_rcnt_il', 'total_bal_il', 'il_util', 'open_rv_12m', 'open_rv_24m', 'max_bal_bc', 'all_util', 'inq_fi', 'total_cu_tl', 'inq_last_12m', 'acc_open_past_24mths', 'avg_cur_bal', 'bc_open_to_buy', 'bc_util', 'mo_sin_old_il_acct', 'mo_sin_old_rev_tl_op', 'mo_sin_rcnt_rev_tl_op', 'mo_sin_rcnt_tl', 'mort_acc', 'mths_since_recent_bc', 'mths_since_recent_bc_dlq', 'mths_since_recent_inq', 'mths_since_recent_revol_delinq', 'num_accts_ever_120_pd', 'num_actv_bc_tl', 'num_rev_tl_bal_gt_0', 'pct_tl_nvr_dlq', 'percent_bc_gt_75', 'sec_app_inq_last_6mths', 'sec_app_mort_acc', 'sec_app_open_acc', 'sec_app_revol_util', 'sec_app_open_act_il', 'sec_app_num_rev_accts', 'sec_app_chargeoff_within_12_mths', 'sec_app_collections_12_mths_ex_med']\n",
      "Index(['loan_amnt', 'term', 'emp_title', 'emp_length', 'home_ownership',\n",
      "       'annual_inc', 'verification_status', 'loan_status', 'pymnt_plan',\n",
      "       'purpose', 'title', 'zip_code', 'addr_state', 'dti', 'delinq_2yrs',\n",
      "       'earliest_cr_line', 'fico_range_low', 'fico_range_high',\n",
      "       'inq_last_6mths', 'mths_since_last_delinq', 'mths_since_last_record',\n",
      "       'open_acc', 'pub_rec', 'revol_bal', 'revol_util', 'total_acc',\n",
      "       'initial_list_status', 'last_pymnt_amnt', 'last_fico_range_high',\n",
      "       'last_fico_range_low', 'collections_12_mths_ex_med', 'application_type',\n",
      "       'acc_now_delinq', 'chargeoff_within_12_mths', 'delinq_amnt',\n",
      "       'pub_rec_bankruptcies', 'tax_liens'],\n",
      "      dtype='object')\n"
     ]
    }
   ],
   "source": [
    "empty_columns = df_cleaned.columns[df_cleaned.isnull().all()]\n",
    "print(f'Empty columns: {empty_columns.tolist()}')\n",
    "df_cleaned = df_cleaned.drop(columns=empty_columns)\n",
    "print(df_cleaned.columns)"
   ]
  },
  {
   "cell_type": "code",
   "execution_count": 11,
   "metadata": {},
   "outputs": [
    {
     "data": {
      "image/png": "[encoded data removed]",
      "text/plain": [
       "<Figure size 1000x600 with 1 Axes>"
      ]
     },
     "metadata": {},
     "output_type": "display_data"
    }
   ],
   "source": [
    "# Plot histogram for a numerical feature\n",
    "plt.figure(figsize=(10, 6))\n",
    "sns.histplot(df_cleaned['loan_amnt'], bins=50, kde=True)\n",
    "plt.title('Distribution of Loan Amount')\n",
    "plt.xlabel('Loan Amount')\n",
    "plt.ylabel('Frequency')\n",
    "plt.show()\n"
   ]
  },
  {
   "cell_type": "code",
   "execution_count": 12,
   "metadata": {},
   "outputs": [
    {
     "data": {
      "image/png": "[encoded data removed]",
      "text/plain": [
       "<Figure size 1000x600 with 1 Axes>"
      ]
     },
     "metadata": {},
     "output_type": "display_data"
    }
   ],
   "source": [
    "plt.figure(figsize=(10, 6))\n",
    "sns.boxplot(x='loan_status', y='loan_amnt', data=df_cleaned)\n",
    "plt.title('Loan Amount by Loan Status')\n",
    "plt.xlabel('Loan Status')\n",
    "plt.ylabel('Loan Amount')\n",
    "# Rotate x-axis labels to vertical\n",
    "plt.xticks(rotation=90)\n",
    "plt.show()"
   ]
  },
  {
   "cell_type": "code",
   "execution_count": 13,
   "metadata": {},
   "outputs": [
    {
     "data": {
      "image/png": "[encoded data removed]",
      "text/plain": [
       "<Figure size 1400x1200 with 2 Axes>"
      ]
     },
     "metadata": {},
     "output_type": "display_data"
    }
   ],
   "source": [
    "numerical_cols = df_cleaned.select_dtypes(include=['float64']).columns\n",
    "df_numerical = df_cleaned[numerical_cols]\n",
    "correlation_matrix = df_numerical.corr()\n",
    "\n",
    "plt.figure(figsize=(14, 12))\n",
    "sns.heatmap(correlation_matrix, annot=False, cmap='coolwarm', fmt='.2f', linewidths=0.5)\n",
    "plt.title('Correlation Matrix of Numerical Features')\n",
    "plt.show()\n"
   ]
  },
  {
   "cell_type": "code",
   "execution_count": 14,
   "metadata": {},
   "outputs": [
    {
     "name": "stdout",
     "output_type": "stream",
     "text": [
      "['Fully Paid' 'Charged Off']\n"
     ]
    }
   ],
   "source": [
    "print(df_cleaned['loan_status'].unique())"
   ]
  },
  {
   "cell_type": "code",
   "execution_count": 15,
   "metadata": {},
   "outputs": [
    {
     "name": "stdout",
     "output_type": "stream",
     "text": [
      "[0 1]\n"
     ]
    }
   ],
   "source": [
    "# Map loan status to binary values\n",
    "df_cleaned['loan_status'] = df_cleaned['loan_status'].map({'Fully Paid': 0, 'Charged Off': 1})\n",
    "\n",
    "# Verify the change\n",
    "print(df_cleaned['loan_status'].unique())"
   ]
  },
  {
   "cell_type": "code",
   "execution_count": 16,
   "metadata": {},
   "outputs": [
    {
     "data": {
      "text/plain": [
       "(20000, 142)"
      ]
     },
     "execution_count": 16,
     "metadata": {},
     "output_type": "execute_result"
    }
   ],
   "source": [
    "df.shape"
   ]
  },
  {
   "cell_type": "code",
   "execution_count": 17,
   "metadata": {},
   "outputs": [
    {
     "data": {
      "text/plain": [
       "(20000, 37)"
      ]
     },
     "execution_count": 17,
     "metadata": {},
     "output_type": "execute_result"
    }
   ],
   "source": [
    "df_cleaned.shape"
   ]
  },
  {
   "cell_type": "code",
   "execution_count": 18,
   "metadata": {},
   "outputs": [
    {
     "name": "stdout",
     "output_type": "stream",
     "text": [
      "<class 'pandas.core.frame.DataFrame'>\n",
      "RangeIndex: 20000 entries, 0 to 19999\n",
      "Data columns (total 37 columns):\n",
      " #   Column                      Non-Null Count  Dtype  \n",
      "---  ------                      --------------  -----  \n",
      " 0   loan_amnt                   20000 non-null  int64  \n",
      " 1   term                        20000 non-null  object \n",
      " 2   emp_title                   18678 non-null  object \n",
      " 3   emp_length                  19301 non-null  object \n",
      " 4   home_ownership              20000 non-null  object \n",
      " 5   annual_inc                  20000 non-null  float64\n",
      " 6   verification_status         20000 non-null  object \n",
      " 7   loan_status                 20000 non-null  int64  \n",
      " 8   pymnt_plan                  20000 non-null  object \n",
      " 9   purpose                     20000 non-null  object \n",
      " 10  title                       20000 non-null  object \n",
      " 11  zip_code                    20000 non-null  object \n",
      " 12  addr_state                  20000 non-null  object \n",
      " 13  dti                         20000 non-null  float64\n",
      " 14  delinq_2yrs                 20000 non-null  int64  \n",
      " 15  earliest_cr_line            20000 non-null  object \n",
      " 16  fico_range_low              20000 non-null  int64  \n",
      " 17  fico_range_high             20000 non-null  int64  \n",
      " 18  inq_last_6mths              20000 non-null  int64  \n",
      " 19  mths_since_last_delinq      6750 non-null   float64\n",
      " 20  mths_since_last_record      1045 non-null   float64\n",
      " 21  open_acc                    20000 non-null  int64  \n",
      " 22  pub_rec                     20000 non-null  int64  \n",
      " 23  revol_bal                   20000 non-null  int64  \n",
      " 24  revol_util                  19991 non-null  object \n",
      " 25  total_acc                   20000 non-null  int64  \n",
      " 26  initial_list_status         20000 non-null  object \n",
      " 27  last_pymnt_amnt             20000 non-null  float64\n",
      " 28  last_fico_range_high        20000 non-null  int64  \n",
      " 29  last_fico_range_low         20000 non-null  int64  \n",
      " 30  collections_12_mths_ex_med  20000 non-null  int64  \n",
      " 31  application_type            20000 non-null  object \n",
      " 32  acc_now_delinq              20000 non-null  int64  \n",
      " 33  chargeoff_within_12_mths    20000 non-null  int64  \n",
      " 34  delinq_amnt                 20000 non-null  int64  \n",
      " 35  pub_rec_bankruptcies        20000 non-null  int64  \n",
      " 36  tax_liens                   20000 non-null  int64  \n",
      "dtypes: float64(5), int64(18), object(14)\n",
      "memory usage: 5.6+ MB\n"
     ]
    }
   ],
   "source": [
    "df_cleaned.info()"
   ]
  },
  {
   "cell_type": "code",
   "execution_count": 49,
   "metadata": {},
   "outputs": [
    {
     "name": "stdout",
     "output_type": "stream",
     "text": [
      "Index(['term', 'emp_title', 'emp_length', 'home_ownership',\n",
      "       'verification_status', 'pymnt_plan', 'purpose', 'title', 'zip_code',\n",
      "       'addr_state', 'earliest_cr_line', 'revol_util', 'initial_list_status',\n",
      "       'application_type'],\n",
      "      dtype='object')\n"
     ]
    }
   ],
   "source": [
    "object_columns = df_cleaned.select_dtypes(include=['object']).columns\n",
    "print(object_columns)"
   ]
  },
  {
   "cell_type": "code",
   "execution_count": 77,
   "metadata": {},
   "outputs": [
    {
     "data": {
      "text/plain": [
       "array(['Individual'], dtype=object)"
      ]
     },
     "execution_count": 77,
     "metadata": {},
     "output_type": "execute_result"
    }
   ],
   "source": [
    "df_cleaned.application_type.unique()"
   ]
  },
  {
   "cell_type": "code",
   "execution_count": 56,
   "metadata": {},
   "outputs": [],
   "source": [
    "df_encoded = pd.get_dummies(df_cleaned, columns=object_columns, drop_first=True)"
   ]
  },
  {
   "cell_type": "code",
   "execution_count": 57,
   "metadata": {},
   "outputs": [
    {
     "name": "stdout",
     "output_type": "stream",
     "text": [
      "<class 'pandas.core.frame.DataFrame'>\n",
      "RangeIndex: 20000 entries, 0 to 19999\n",
      "Columns: 26388 entries, loan_amnt to revol_util_99.9%\n",
      "dtypes: bool(26365), float64(5), int64(18)\n",
      "memory usage: 506.4 MB\n"
     ]
    }
   ],
   "source": [
    "df_encoded.info()"
   ]
  },
  {
   "cell_type": "code",
   "execution_count": 59,
   "metadata": {},
   "outputs": [
    {
     "data": {
      "text/plain": [
       "(20000, 37)"
      ]
     },
     "execution_count": 59,
     "metadata": {},
     "output_type": "execute_result"
    }
   ],
   "source": [
    "df_cleaned.shape"
   ]
  }
 ],
 "metadata": {
  "kernelspec": {
   "display_name": "Python 3",
   "language": "python",
   "name": "python3"
  },
  "language_info": {
   "codemirror_mode": {
    "name": "ipython",
    "version": 3
   },
   "file_extension": ".py",
   "mimetype": "text/x-python",
   "name": "python",
   "nbconvert_exporter": "python",
   "pygments_lexer": "ipython3",
   "version": "3.10.14"
  }
 },
 "nbformat": 4,
 "nbformat_minor": 2
}
